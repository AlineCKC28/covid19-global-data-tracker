{
  "cells": [
    {
      "cell_type": "markdown",
      "metadata": {},
      "source": [
        "# COVID-19 Global Data Tracker\n",
        "\n",
        "A clean, end-to-end notebook to explore and visualize global COVID-19 data.\n",
        "\n",
        "**Contents**\n",
        "1. Setup & Imports\n",
        "2. Load Data\n",
        "3. Clean & Select\n",
        "4. Quick EDA\n",
        "5. Global Trends\n",
        "6. Top Countries\n",
        "7. Per-Capita Comparisons\n",
        "8. Vaccination Overview\n",
        "9. Save Outputs (optional)"
      ]
    },
    {
      "cell_type": "code",
      "execution_count": null,
      "metadata": {},
      "outputs": [],
      "source": [
        "# 1) Setup & Imports\n",
        "import pandas as pd\n",
        "import numpy as np\n",
        "import matplotlib.pyplot as plt\n",
        "import seaborn as sns\n",
        "import plotly.express as px\n",
        "from pathlib import Path\n",
        "\n",
        "plt.rcParams['figure.figsize'] = (12, 6)\n",
        "plt.rcParams['axes.grid'] = True\n",
        "sns.set_context('talk')\n",
        "\n",
        "OUT_DIR = Path('outputs')\n",
        "OUT_DIR.mkdir(exist_ok=True)\n",
        "print('Environment ready.')"
      ]
    },
    {
      "cell_type": "code",
      "execution_count": null,
      "metadata": {},
      "outputs": [],
      "source": [
        "# 2) Load Data (from Our World in Data) with basic error handling\n",
        "URL = 'https://covid.ourworldindata.org/data/owid-covid-data.csv'\n",
        "try:\n",
        "    df = pd.read_csv(URL)\n",
        "    print('Loaded rows:', len(df))\n",
        "except Exception as e:\n",
        "    raise SystemExit(f'Failed to load data from {URL}: {e}')"
      ]
    },
    {
      "cell_type": "code",
      "execution_count": null,
      "metadata": {},
      "outputs": [],
      "source": [
        "# 3) Clean & Select\n",
        "cols = [\n",
        "    'location','continent','date','population',\n",
        "    'total_cases','new_cases','total_deaths','new_deaths',\n",
        "    'total_cases_per_million','total_deaths_per_million',\n",
        "    'new_cases_smoothed','new_deaths_smoothed',\n",
        "    'people_vaccinated','people_fully_vaccinated','total_boosters'\n",
        "]\n",
        "available = [c for c in cols if c in df.columns]\n",
        "data = df[available].copy()\n",
        "data['date'] = pd.to_datetime(data['date'], errors='coerce')\n",
        "data = data.dropna(subset=['date'])\n",
        "data.sort_values(['location','date'], inplace=True)\n",
        "data.head()"
      ]
    },
    {
      "cell_type": "code",
      "execution_count": null,
      "metadata": {},
      "outputs": [],
      "source": [
        "# Utility functions (reusable)\n",
        "def latest_snapshot(frame: pd.DataFrame) -> pd.DataFrame:\n",
        "    \"\"\"Return the latest row for each location.\"\"\"\n",
        "    return frame.sort_values('date').groupby('location', as_index=False).tail(1)\n",
        "\n",
        "def top_n(frame: pd.DataFrame, col: str, n: int = 10) -> pd.DataFrame:\n",
        "    \"\"\"Return top n locations by a numeric column at latest snapshot.\"\"\"\n",
        "    snap = latest_snapshot(frame)\n",
        "    snap = snap.dropna(subset=[col])\n",
        "    return snap.sort_values(col, ascending=False).head(n)"
      ]
    },
    {
      "cell_type": "code",
      "execution_count": null,
      "metadata": {},
      "outputs": [],
      "source": [
        "# 4) Quick EDA\n",
        "countries = data['location'].nunique() if 'location' in data.columns else None\n",
        "date_min = data['date'].min()\n",
        "date_max = data['date'].max()\n",
        "print(f'Countries/regions: {countries}\\nDate range: {date_min.date()} \u2192 {date_max.date()}')\n",
        "data.describe(include='all').T.head(12)"
      ]
    },
    {
      "cell_type": "code",
      "execution_count": null,
      "metadata": {},
      "outputs": [],
      "source": [
        "# 5) Global Trends: total cases and deaths over time\n",
        "global_daily = data.groupby('date', as_index=False).agg({\n",
        "    'total_cases':'sum',\n",
        "    'total_deaths':'sum'\n",
        "})\n",
        "\n",
        "fig, ax = plt.subplots()\n",
        "ax.plot(global_daily['date'], global_daily['total_cases'], label='Total cases')\n",
        "ax.plot(global_daily['date'], global_daily['total_deaths'], label='Total deaths')\n",
        "ax.set_title('Global COVID-19 Totals Over Time')\n",
        "ax.set_xlabel('Date')\n",
        "ax.set_ylabel('Count (sum across locations)')\n",
        "ax.legend();\n",
        "plt.tight_layout()\n",
        "plt.savefig(OUT_DIR/'global_trends_matplotlib.png', dpi=150)\n",
        "plt.show()"
      ]
    },
    {
      "cell_type": "code",
      "execution_count": null,
      "metadata": {},
      "outputs": [],
      "source": [
        "# Interactive view (Plotly)\n",
        "fig = px.line(global_daily, x='date', y=['total_cases','total_deaths'],\n",
        "              title='Global COVID-19 Totals Over Time (Interactive)')\n",
        "fig.show()"
      ]
    },
    {
      "cell_type": "code",
      "execution_count": null,
      "metadata": {},
      "outputs": [],
      "source": [
        "# 6) Top countries by cumulative cases (latest snapshot)\n",
        "top10_cases = top_n(data, 'total_cases', n=10)\n",
        "fig = px.bar(top10_cases, x='location', y='total_cases',\n",
        "             title='Top 10 Countries by Total Cases (Latest)', text='total_cases')\n",
        "fig.update_traces(texttemplate='%{text:.0f}', textposition='outside')\n",
        "fig.update_layout(xaxis_title='Country', yaxis_title='Total cases')\n",
        "fig.show()\n",
        "top10_cases[['location','total_cases','total_deaths','population']].reset_index(drop=True)"
      ]
    },
    {
      "cell_type": "code",
      "execution_count": null,
      "metadata": {},
      "outputs": [],
      "source": [
        "# 7) Per-capita comparisons (cases/deaths per million)\n",
        "percap_cols = [c for c in ['total_cases_per_million','total_deaths_per_million'] if c in data.columns]\n",
        "if percap_cols:\n",
        "    snap = latest_snapshot(data)\n",
        "    snap = snap.dropna(subset=percap_cols)\n",
        "    top_cases_pm = snap.sort_values('total_cases_per_million', ascending=False).head(15)\n",
        "    fig = px.bar(top_cases_pm, x='location', y='total_cases_per_million',\n",
        "                 title='Top 15 by Total Cases per Million (Latest)')\n",
        "    fig.show()\n",
        "else:\n",
        "    print('Per-capita columns not found in dataset.')"
      ]
    },
    {
      "cell_type": "code",
      "execution_count": null,
      "metadata": {},
      "outputs": [],
      "source": [
        "# 8) Vaccination overview (if present)\n",
        "vacc_cols = [c for c in ['people_vaccinated','people_fully_vaccinated','total_boosters'] if c in data.columns]\n",
        "if vacc_cols:\n",
        "    vacc = data.dropna(subset=['date'])[['location','date'] + vacc_cols].copy()\n",
        "    world_vacc = vacc.groupby('date', as_index=False)[vacc_cols].sum()\n",
        "    fig = px.line(world_vacc, x='date', y=vacc_cols, title='Global Vaccination Progress')\n",
        "    fig.show()\n",
        "else:\n",
        "    print('Vaccination columns not found in dataset.')"
      ]
    },
    {
      "cell_type": "code",
      "execution_count": null,
      "metadata": {},
      "outputs": [],
      "source": [
        "# 9) Save cleaned snapshot & metadata\n",
        "snap = latest_snapshot(data)\n",
        "stamp = pd.Timestamp.utcnow().strftime('%Y%m%dT%H%MZ')\n",
        "csv_path = OUT_DIR / f'latest_snapshot_{stamp}.csv'\n",
        "snap.to_csv(csv_path, index=False)\n",
        "print('Saved:', csv_path)"
      ]
    }
  ],
  "metadata": {
    "kernelspec": {
      "display_name": "Python 3",
      "language": "python",
      "name": "python3"
    },
    "language_info": {
      "name": "python",
      "version": "3.x"
    }
  },
  "nbformat": 4,
  "nbformat_minor": 5
}